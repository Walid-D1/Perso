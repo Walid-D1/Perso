{
 "cells": [
  {
   "cell_type": "code",
   "execution_count": null,
   "id": "c5748e7a",
   "metadata": {},
   "outputs": [],
   "source": [
    "import pandas as pd\n",
    "import os\n",
    "import glob\n",
    "\n",
    "#On fixe le repertoire de travail\n",
    "os.chdir(r'C:\\Users\\106443\\ML_Test\\batchs')\n",
    "\n",
    "#Importer tous les fichiers présent dans le repertoire \n",
    "extension = 'csv'\n",
    "all_filenames =[ i for i in glob.glob('*.{}'.format(extension))]\n",
    "\n",
    "df = pd.concat([pd.read_csv(f) for f in all_filenames])"
   ]
  }
 ],
 "metadata": {
  "kernelspec": {
   "display_name": "Python 3 (ipykernel)",
   "language": "python",
   "name": "python3"
  },
  "language_info": {
   "codemirror_mode": {
    "name": "ipython",
    "version": 3
   },
   "file_extension": ".py",
   "mimetype": "text/x-python",
   "name": "python",
   "nbconvert_exporter": "python",
   "pygments_lexer": "ipython3",
   "version": "3.9.12"
  }
 },
 "nbformat": 4,
 "nbformat_minor": 5
}
